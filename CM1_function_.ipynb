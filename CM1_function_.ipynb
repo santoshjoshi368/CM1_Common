{
 "cells": [
  {
   "cell_type": "code",
   "execution_count": 14,
   "metadata": {},
   "outputs": [],
   "source": [
    "import pandas as pd\n",
    "import math\n"
   ]
  },
  {
   "cell_type": "code",
   "execution_count": null,
   "metadata": {},
   "outputs": [
    {
     "name": "stdout",
     "output_type": "stream",
     "text": [
      "Present value of cashflows: 545.14\n"
     ]
    }
   ],
   "source": [
    "\n",
    "def present_value_cashflows(cashflows: tuple, interest_rate: float) -> float:\n",
    "    \"\"\"\n",
    "    Actuarial Assumptions:\n",
    "    - Interest rate is constant over the entire time period\n",
    "    - Cashflows occur at discrete time points\n",
    "    - Time is measured in years and can be fractional\n",
    "    - The interest rate is an annual effective rate\n",
    "    - No taxes, inflation, or other factors are considered\n",
    "    - The first cashflow could occur immediately (time=0) or at any future time\n",
    "    \"\"\"\n",
    "    present_value = sum(amount/(1 + interest_rate) **time for amount,time in cashflows)\n",
    "    return present_value\n",
    "\n",
    "# Sample function call\n",
    "sample_cashflows = [(100, 0.5), (200, 1), (300, 2.5)]\n",
    "sample_rate = 0.06  # 6% annual interest\n",
    "pv = present_value_cashflows(sample_cashflows, sample_rate)\n",
    "print(f\"Present value of cashflows: {pv:.2f}\")\n",
    "\n",
    "# Expected output (for verification):\n",
    "# Present value of cashflows: 553.43\n",
    "    "
   ]
  },
  {
   "cell_type": "markdown",
   "metadata": {},
   "source": [
    "5. Force of Interest"
   ]
  },
  {
   "cell_type": "code",
   "execution_count": 2,
   "metadata": {},
   "outputs": [
    {
     "name": "stdout",
     "output_type": "stream",
     "text": [
      "The force of interest is:  0.0953%\n"
     ]
    }
   ],
   "source": [
    "#5 Force of Interest Calculation\n",
    "def force_of_interest(interest_rate:float) -> float:\n",
    "    from math import log\n",
    "    delta = log(1+interest_rate/100)\n",
    "    return delta\n",
    "interest_rate = 10\n",
    "force_interest = force_of_interest(interest_rate)\n",
    "print(f\"The force of interest is: {force_interest: .4f}%\")"
   ]
  },
  {
   "cell_type": "code",
   "execution_count": 27,
   "metadata": {},
   "outputs": [
    {
     "data": {
      "text/plain": [
       "10.652588310535188"
      ]
     },
     "execution_count": 27,
     "metadata": {},
     "output_type": "execute_result"
    }
   ],
   "source": [
    "#6. Increasing Annuity\n",
    "def increasing_annuity(n: float, interest_rate: float):\n",
    "    #Discount factor Claculation\n",
    "    discount_fact = 1/(1+interest_rate)\n",
    "    #Annuity due\n",
    "    ann_due = (1-discount_fact**n)/(interest_rate*discount_fact)\n",
    "    increasing_annuity = (ann_due-n*discount_fact**n)/interest_rate\n",
    "    return increasing_annuity\n",
    "increasing_annuity(5,0.1)\n",
    "    \n"
   ]
  },
  {
   "cell_type": "code",
   "execution_count": null,
   "metadata": {},
   "outputs": [],
   "source": [
    "#Bond Price Calculation (Market Price of the fixed interest bond)\n",
    "def bond_price(face_value, coupon_rate, yield_rate, term, frequency):\n",
    "    n = term * frequency\n",
    "    coupon_payment = (face_value * coupon_rate) / frequency\n",
    "    periodic_yield = yield_rate / frequency\n",
    "    discount_fact = (1 + periodic_yield) ** (-n)\n",
    "    \n",
    "    # Price = PV of coupons + PV of face value\n",
    "    price = (coupon_payment * (1 - discount_factor) / periodic_yield) + (face_value * discount_factor)\n",
    "    return price"
   ]
  },
  {
   "cell_type": "code",
   "execution_count": 31,
   "metadata": {},
   "outputs": [
    {
     "data": {
      "text/plain": [
       "int"
      ]
     },
     "execution_count": 31,
     "metadata": {},
     "output_type": "execute_result"
    }
   ],
   "source": [
    "type(face_value)"
   ]
  },
  {
   "cell_type": "code",
   "execution_count": 30,
   "metadata": {},
   "outputs": [
    {
     "name": "stdout",
     "output_type": "stream",
     "text": [
      "Bond Price: $925.61\n"
     ]
    }
   ],
   "source": [
    "# Example: 5% coupon bond, 10 years, 6% yield, semi-annual payments\n",
    "face_value = 1000\n",
    "coupon_rate = 0.05\n",
    "yield_rate = 0.06\n",
    "term = 10\n",
    "frequency = 2\n",
    "\n",
    "price = bond_price(face_value, coupon_rate, yield_rate, term, frequency)\n",
    "print(f\"Bond Price: ${price:.2f}\")"
   ]
  }
 ],
 "metadata": {
  "kernelspec": {
   "display_name": "Python 3",
   "language": "python",
   "name": "python3"
  },
  "language_info": {
   "codemirror_mode": {
    "name": "ipython",
    "version": 3
   },
   "file_extension": ".py",
   "mimetype": "text/x-python",
   "name": "python",
   "nbconvert_exporter": "python",
   "pygments_lexer": "ipython3",
   "version": "3.11.9"
  }
 },
 "nbformat": 4,
 "nbformat_minor": 2
}
